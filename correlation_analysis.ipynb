{
  "nbformat": 4,
  "nbformat_minor": 0,
  "metadata": {
    "kernelspec": {
      "display_name": "Python 3",
      "language": "python",
      "name": "python3"
    },
    "language_info": {
      "codemirror_mode": {
        "name": "ipython",
        "version": 3
      },
      "file_extension": ".py",
      "mimetype": "text/x-python",
      "name": "python",
      "nbconvert_exporter": "python",
      "pygments_lexer": "ipython3",
      "version": "3.7.3"
    },
    "colab": {
      "name": "correlation_analysis.ipynb",
      "provenance": [],
      "include_colab_link": true
    }
  },
  "cells": [
    {
      "cell_type": "markdown",
      "metadata": {
        "id": "view-in-github",
        "colab_type": "text"
      },
      "source": [
        "<a href=\"https://colab.research.google.com/github/sireesharodda/simplilearn/blob/master/correlation_analysis.ipynb\" target=\"_parent\"><img src=\"https://colab.research.google.com/assets/colab-badge.svg\" alt=\"Open In Colab\"/></a>"
      ]
    },
    {
      "cell_type": "code",
      "metadata": {
        "id": "7Lr3hgPSLxV6",
        "colab_type": "code",
        "colab": {}
      },
      "source": [
        "import pandas as pd"
      ],
      "execution_count": 0,
      "outputs": []
    },
    {
      "cell_type": "code",
      "metadata": {
        "id": "DGWZ3ZK4LxWB",
        "colab_type": "code",
        "colab": {},
        "outputId": "79f6b3db-66a5-4cf8-dd41-32d5ff1e3c6e"
      },
      "source": [
        "df=pd.read_csv('Salaries.csv')\n",
        "df.describe()"
      ],
      "execution_count": 0,
      "outputs": [
        {
          "output_type": "stream",
          "text": [
            "/opt/anaconda3/lib/python3.7/site-packages/IPython/core/interactiveshell.py:3049: DtypeWarning: Columns (12) have mixed types. Specify dtype option on import or set low_memory=False.\n",
            "  interactivity=interactivity, compiler=compiler, result=result)\n"
          ],
          "name": "stderr"
        },
        {
          "output_type": "execute_result",
          "data": {
            "text/html": [
              "<div>\n",
              "<style scoped>\n",
              "    .dataframe tbody tr th:only-of-type {\n",
              "        vertical-align: middle;\n",
              "    }\n",
              "\n",
              "    .dataframe tbody tr th {\n",
              "        vertical-align: top;\n",
              "    }\n",
              "\n",
              "    .dataframe thead th {\n",
              "        text-align: right;\n",
              "    }\n",
              "</style>\n",
              "<table border=\"1\" class=\"dataframe\">\n",
              "  <thead>\n",
              "    <tr style=\"text-align: right;\">\n",
              "      <th></th>\n",
              "      <th>Id</th>\n",
              "      <th>BasePay</th>\n",
              "      <th>OvertimePay</th>\n",
              "      <th>OtherPay</th>\n",
              "      <th>Benefits</th>\n",
              "      <th>TotalPay</th>\n",
              "      <th>TotalPayBenefits</th>\n",
              "      <th>Year</th>\n",
              "      <th>Notes</th>\n",
              "    </tr>\n",
              "  </thead>\n",
              "  <tbody>\n",
              "    <tr>\n",
              "      <th>count</th>\n",
              "      <td>148648.000000</td>\n",
              "      <td>148043.000000</td>\n",
              "      <td>148648.000000</td>\n",
              "      <td>148648.000000</td>\n",
              "      <td>112490.000000</td>\n",
              "      <td>148648.000000</td>\n",
              "      <td>148648.000000</td>\n",
              "      <td>148648.000000</td>\n",
              "      <td>0.0</td>\n",
              "    </tr>\n",
              "    <tr>\n",
              "      <th>mean</th>\n",
              "      <td>74326.110220</td>\n",
              "      <td>66325.398119</td>\n",
              "      <td>5065.821161</td>\n",
              "      <td>3648.761721</td>\n",
              "      <td>25007.777439</td>\n",
              "      <td>74770.035453</td>\n",
              "      <td>93694.776345</td>\n",
              "      <td>2012.522617</td>\n",
              "      <td>NaN</td>\n",
              "    </tr>\n",
              "    <tr>\n",
              "      <th>std</th>\n",
              "      <td>42911.633315</td>\n",
              "      <td>42764.898947</td>\n",
              "      <td>11454.266982</td>\n",
              "      <td>8056.655841</td>\n",
              "      <td>15402.235424</td>\n",
              "      <td>50516.440633</td>\n",
              "      <td>62792.743250</td>\n",
              "      <td>1.117526</td>\n",
              "      <td>NaN</td>\n",
              "    </tr>\n",
              "    <tr>\n",
              "      <th>min</th>\n",
              "      <td>1.000000</td>\n",
              "      <td>-166.010000</td>\n",
              "      <td>-0.010000</td>\n",
              "      <td>-7058.590000</td>\n",
              "      <td>-33.890000</td>\n",
              "      <td>-618.130000</td>\n",
              "      <td>-618.130000</td>\n",
              "      <td>2011.000000</td>\n",
              "      <td>NaN</td>\n",
              "    </tr>\n",
              "    <tr>\n",
              "      <th>25%</th>\n",
              "      <td>37163.750000</td>\n",
              "      <td>33587.350000</td>\n",
              "      <td>0.000000</td>\n",
              "      <td>0.000000</td>\n",
              "      <td>11535.192500</td>\n",
              "      <td>36169.370000</td>\n",
              "      <td>44072.062500</td>\n",
              "      <td>2012.000000</td>\n",
              "      <td>NaN</td>\n",
              "    </tr>\n",
              "    <tr>\n",
              "      <th>50%</th>\n",
              "      <td>74326.500000</td>\n",
              "      <td>65007.450000</td>\n",
              "      <td>0.000000</td>\n",
              "      <td>811.205000</td>\n",
              "      <td>28628.365000</td>\n",
              "      <td>71427.130000</td>\n",
              "      <td>92406.020000</td>\n",
              "      <td>2013.000000</td>\n",
              "      <td>NaN</td>\n",
              "    </tr>\n",
              "    <tr>\n",
              "      <th>75%</th>\n",
              "      <td>111488.250000</td>\n",
              "      <td>94691.050000</td>\n",
              "      <td>4657.597500</td>\n",
              "      <td>4236.035000</td>\n",
              "      <td>35566.790000</td>\n",
              "      <td>105840.920000</td>\n",
              "      <td>132876.997500</td>\n",
              "      <td>2014.000000</td>\n",
              "      <td>NaN</td>\n",
              "    </tr>\n",
              "    <tr>\n",
              "      <th>max</th>\n",
              "      <td>148654.000000</td>\n",
              "      <td>319275.010000</td>\n",
              "      <td>245131.880000</td>\n",
              "      <td>400184.250000</td>\n",
              "      <td>96570.660000</td>\n",
              "      <td>567595.430000</td>\n",
              "      <td>567595.430000</td>\n",
              "      <td>2014.000000</td>\n",
              "      <td>NaN</td>\n",
              "    </tr>\n",
              "  </tbody>\n",
              "</table>\n",
              "</div>"
            ],
            "text/plain": [
              "                  Id        BasePay    OvertimePay       OtherPay  \\\n",
              "count  148648.000000  148043.000000  148648.000000  148648.000000   \n",
              "mean    74326.110220   66325.398119    5065.821161    3648.761721   \n",
              "std     42911.633315   42764.898947   11454.266982    8056.655841   \n",
              "min         1.000000    -166.010000      -0.010000   -7058.590000   \n",
              "25%     37163.750000   33587.350000       0.000000       0.000000   \n",
              "50%     74326.500000   65007.450000       0.000000     811.205000   \n",
              "75%    111488.250000   94691.050000    4657.597500    4236.035000   \n",
              "max    148654.000000  319275.010000  245131.880000  400184.250000   \n",
              "\n",
              "            Benefits       TotalPay  TotalPayBenefits           Year  Notes  \n",
              "count  112490.000000  148648.000000     148648.000000  148648.000000    0.0  \n",
              "mean    25007.777439   74770.035453      93694.776345    2012.522617    NaN  \n",
              "std     15402.235424   50516.440633      62792.743250       1.117526    NaN  \n",
              "min       -33.890000    -618.130000       -618.130000    2011.000000    NaN  \n",
              "25%     11535.192500   36169.370000      44072.062500    2012.000000    NaN  \n",
              "50%     28628.365000   71427.130000      92406.020000    2013.000000    NaN  \n",
              "75%     35566.790000  105840.920000     132876.997500    2014.000000    NaN  \n",
              "max     96570.660000  567595.430000     567595.430000    2014.000000    NaN  "
            ]
          },
          "metadata": {
            "tags": []
          },
          "execution_count": 2
        }
      ]
    },
    {
      "cell_type": "code",
      "metadata": {
        "id": "rZhPFVjVLxWG",
        "colab_type": "code",
        "colab": {},
        "outputId": "ed51753d-8c72-4e7c-db89-dd22c6d93f58"
      },
      "source": [
        "df[['BasePay','Year']].groupby(['Year']).describe()"
      ],
      "execution_count": 0,
      "outputs": [
        {
          "output_type": "execute_result",
          "data": {
            "text/html": [
              "<div>\n",
              "<style scoped>\n",
              "    .dataframe tbody tr th:only-of-type {\n",
              "        vertical-align: middle;\n",
              "    }\n",
              "\n",
              "    .dataframe tbody tr th {\n",
              "        vertical-align: top;\n",
              "    }\n",
              "\n",
              "    .dataframe thead tr th {\n",
              "        text-align: left;\n",
              "    }\n",
              "\n",
              "    .dataframe thead tr:last-of-type th {\n",
              "        text-align: right;\n",
              "    }\n",
              "</style>\n",
              "<table border=\"1\" class=\"dataframe\">\n",
              "  <thead>\n",
              "    <tr>\n",
              "      <th></th>\n",
              "      <th colspan=\"8\" halign=\"left\">BasePay</th>\n",
              "    </tr>\n",
              "    <tr>\n",
              "      <th></th>\n",
              "      <th>count</th>\n",
              "      <th>mean</th>\n",
              "      <th>std</th>\n",
              "      <th>min</th>\n",
              "      <th>25%</th>\n",
              "      <th>50%</th>\n",
              "      <th>75%</th>\n",
              "      <th>max</th>\n",
              "    </tr>\n",
              "    <tr>\n",
              "      <th>Year</th>\n",
              "      <th></th>\n",
              "      <th></th>\n",
              "      <th></th>\n",
              "      <th></th>\n",
              "      <th></th>\n",
              "      <th></th>\n",
              "      <th></th>\n",
              "      <th></th>\n",
              "    </tr>\n",
              "  </thead>\n",
              "  <tbody>\n",
              "    <tr>\n",
              "      <th>2011</th>\n",
              "      <td>36158.0</td>\n",
              "      <td>63596.112293</td>\n",
              "      <td>40557.325014</td>\n",
              "      <td>0.00</td>\n",
              "      <td>33467.8075</td>\n",
              "      <td>62873.095</td>\n",
              "      <td>90650.6275</td>\n",
              "      <td>294580.02</td>\n",
              "    </tr>\n",
              "    <tr>\n",
              "      <th>2012</th>\n",
              "      <td>36765.0</td>\n",
              "      <td>65435.950986</td>\n",
              "      <td>41782.686607</td>\n",
              "      <td>-166.01</td>\n",
              "      <td>34034.6400</td>\n",
              "      <td>64015.000</td>\n",
              "      <td>92428.9000</td>\n",
              "      <td>302578.00</td>\n",
              "    </tr>\n",
              "    <tr>\n",
              "      <th>2013</th>\n",
              "      <td>37001.0</td>\n",
              "      <td>69630.030216</td>\n",
              "      <td>44237.113207</td>\n",
              "      <td>15.83</td>\n",
              "      <td>37021.5000</td>\n",
              "      <td>67669.000</td>\n",
              "      <td>98272.5500</td>\n",
              "      <td>319275.01</td>\n",
              "    </tr>\n",
              "    <tr>\n",
              "      <th>2014</th>\n",
              "      <td>38119.0</td>\n",
              "      <td>66564.421924</td>\n",
              "      <td>44053.783972</td>\n",
              "      <td>0.00</td>\n",
              "      <td>30138.0550</td>\n",
              "      <td>65055.000</td>\n",
              "      <td>94735.0500</td>\n",
              "      <td>318835.49</td>\n",
              "    </tr>\n",
              "  </tbody>\n",
              "</table>\n",
              "</div>"
            ],
            "text/plain": [
              "      BasePay                                                             \\\n",
              "        count          mean           std     min         25%        50%   \n",
              "Year                                                                       \n",
              "2011  36158.0  63596.112293  40557.325014    0.00  33467.8075  62873.095   \n",
              "2012  36765.0  65435.950986  41782.686607 -166.01  34034.6400  64015.000   \n",
              "2013  37001.0  69630.030216  44237.113207   15.83  37021.5000  67669.000   \n",
              "2014  38119.0  66564.421924  44053.783972    0.00  30138.0550  65055.000   \n",
              "\n",
              "                             \n",
              "             75%        max  \n",
              "Year                         \n",
              "2011  90650.6275  294580.02  \n",
              "2012  92428.9000  302578.00  \n",
              "2013  98272.5500  319275.01  \n",
              "2014  94735.0500  318835.49  "
            ]
          },
          "metadata": {
            "tags": []
          },
          "execution_count": 5
        }
      ]
    },
    {
      "cell_type": "code",
      "metadata": {
        "id": "sZwPyAheLxWJ",
        "colab_type": "code",
        "colab": {},
        "outputId": "43ad3638-e498-4aab-f265-0a3cbacad21a"
      },
      "source": [
        "df[['BasePay','Year']].groupby(['Year']).describe().unstack()"
      ],
      "execution_count": 0,
      "outputs": [
        {
          "output_type": "execute_result",
          "data": {
            "text/plain": [
              "                Year\n",
              "BasePay  count  2011     36158.000000\n",
              "                2012     36765.000000\n",
              "                2013     37001.000000\n",
              "                2014     38119.000000\n",
              "         mean   2011     63596.112293\n",
              "                2012     65435.950986\n",
              "                2013     69630.030216\n",
              "                2014     66564.421924\n",
              "         std    2011     40557.325014\n",
              "                2012     41782.686607\n",
              "                2013     44237.113207\n",
              "                2014     44053.783972\n",
              "         min    2011         0.000000\n",
              "                2012      -166.010000\n",
              "                2013        15.830000\n",
              "                2014         0.000000\n",
              "         25%    2011     33467.807500\n",
              "                2012     34034.640000\n",
              "                2013     37021.500000\n",
              "                2014     30138.055000\n",
              "         50%    2011     62873.095000\n",
              "                2012     64015.000000\n",
              "                2013     67669.000000\n",
              "                2014     65055.000000\n",
              "         75%    2011     90650.627500\n",
              "                2012     92428.900000\n",
              "                2013     98272.550000\n",
              "                2014     94735.050000\n",
              "         max    2011    294580.020000\n",
              "                2012    302578.000000\n",
              "                2013    319275.010000\n",
              "                2014    318835.490000\n",
              "dtype: float64"
            ]
          },
          "metadata": {
            "tags": []
          },
          "execution_count": 6
        }
      ]
    },
    {
      "cell_type": "code",
      "metadata": {
        "id": "lCrXiExILxWN",
        "colab_type": "code",
        "colab": {},
        "outputId": "c12fd9b2-4420-48d2-b598-813b42f5b8d7"
      },
      "source": [
        "df[['BasePay','Year']].corr()"
      ],
      "execution_count": 0,
      "outputs": [
        {
          "output_type": "execute_result",
          "data": {
            "text/html": [
              "<div>\n",
              "<style scoped>\n",
              "    .dataframe tbody tr th:only-of-type {\n",
              "        vertical-align: middle;\n",
              "    }\n",
              "\n",
              "    .dataframe tbody tr th {\n",
              "        vertical-align: top;\n",
              "    }\n",
              "\n",
              "    .dataframe thead th {\n",
              "        text-align: right;\n",
              "    }\n",
              "</style>\n",
              "<table border=\"1\" class=\"dataframe\">\n",
              "  <thead>\n",
              "    <tr style=\"text-align: right;\">\n",
              "      <th></th>\n",
              "      <th>BasePay</th>\n",
              "      <th>Year</th>\n",
              "    </tr>\n",
              "  </thead>\n",
              "  <tbody>\n",
              "    <tr>\n",
              "      <th>BasePay</th>\n",
              "      <td>1.00000</td>\n",
              "      <td>0.03375</td>\n",
              "    </tr>\n",
              "    <tr>\n",
              "      <th>Year</th>\n",
              "      <td>0.03375</td>\n",
              "      <td>1.00000</td>\n",
              "    </tr>\n",
              "  </tbody>\n",
              "</table>\n",
              "</div>"
            ],
            "text/plain": [
              "         BasePay     Year\n",
              "BasePay  1.00000  0.03375\n",
              "Year     0.03375  1.00000"
            ]
          },
          "metadata": {
            "tags": []
          },
          "execution_count": 8
        }
      ]
    },
    {
      "cell_type": "code",
      "metadata": {
        "id": "a8yint25LxWR",
        "colab_type": "code",
        "colab": {}
      },
      "source": [
        ""
      ],
      "execution_count": 0,
      "outputs": []
    }
  ]
}