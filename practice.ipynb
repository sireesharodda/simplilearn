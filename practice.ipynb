{
  "nbformat": 4,
  "nbformat_minor": 0,
  "metadata": {
    "kernelspec": {
      "display_name": "Python 3",
      "language": "python",
      "name": "python3"
    },
    "language_info": {
      "codemirror_mode": {
        "name": "ipython",
        "version": 3
      },
      "file_extension": ".py",
      "mimetype": "text/x-python",
      "name": "python",
      "nbconvert_exporter": "python",
      "pygments_lexer": "ipython3",
      "version": "3.7.3"
    },
    "colab": {
      "name": "practice.ipynb",
      "provenance": [],
      "include_colab_link": true
    }
  },
  "cells": [
    {
      "cell_type": "markdown",
      "metadata": {
        "id": "view-in-github",
        "colab_type": "text"
      },
      "source": [
        "<a href=\"https://colab.research.google.com/github/sireesharodda/simplilearn/blob/master/practice.ipynb\" target=\"_parent\"><img src=\"https://colab.research.google.com/assets/colab-badge.svg\" alt=\"Open In Colab\"/></a>"
      ]
    },
    {
      "cell_type": "code",
      "metadata": {
        "id": "0pEJbtZMLQnJ",
        "colab_type": "code",
        "colab": {}
      },
      "source": [
        "import numpy,pandas"
      ],
      "execution_count": 0,
      "outputs": []
    },
    {
      "cell_type": "code",
      "metadata": {
        "id": "QGuEXxUeLQnP",
        "colab_type": "code",
        "colab": {}
      },
      "source": [
        "df=pandas.read_csv('mtcars.csv',delimiter=',')\n"
      ],
      "execution_count": 0,
      "outputs": []
    },
    {
      "cell_type": "code",
      "metadata": {
        "id": "uueidxIkLQnT",
        "colab_type": "code",
        "colab": {}
      },
      "source": [
        "model=numpy.array(df['model'])\n",
        "mpg=numpy.array(df['mpg'])\n",
        "cyl=numpy.array(df['cyl'])\n",
        "disp=numpy.array(df['disp'])\n",
        "hp=numpy.array(df['hp'])\n",
        "drat=numpy.array(df['drat'])\n",
        "wt=numpy.array(df['wt'])\n",
        "qsec=numpy.array(df['qsec'])\n",
        "vs=numpy.array(df['vs'])\n",
        "am=numpy.array(df['am'])\n",
        "gear=numpy.array(df['gear'])\n",
        "carb=numpy.array(df['carb'])"
      ],
      "execution_count": 0,
      "outputs": []
    },
    {
      "cell_type": "code",
      "metadata": {
        "id": "Hrfk0KNMLQnX",
        "colab_type": "code",
        "colab": {},
        "outputId": "f9056049-a51f-41df-9e6c-b986db8ecfec"
      },
      "source": [
        "df.shape"
      ],
      "execution_count": 0,
      "outputs": [
        {
          "output_type": "execute_result",
          "data": {
            "text/plain": [
              "(32, 12)"
            ]
          },
          "metadata": {
            "tags": []
          },
          "execution_count": 51
        }
      ]
    },
    {
      "cell_type": "code",
      "metadata": {
        "id": "SnUCSunJLQnb",
        "colab_type": "code",
        "colab": {},
        "outputId": "d456836c-40d5-4a1d-b3c5-1d0a1b0833cb"
      },
      "source": [
        "type(df)"
      ],
      "execution_count": 0,
      "outputs": [
        {
          "output_type": "execute_result",
          "data": {
            "text/plain": [
              "pandas.core.frame.DataFrame"
            ]
          },
          "metadata": {
            "tags": []
          },
          "execution_count": 52
        }
      ]
    },
    {
      "cell_type": "code",
      "metadata": {
        "id": "zmnKZx-iLQnf",
        "colab_type": "code",
        "colab": {},
        "outputId": "df27e1b1-ec1f-4f1e-bd5b-60c731c89d16"
      },
      "source": [
        "df['model'].dtype"
      ],
      "execution_count": 0,
      "outputs": [
        {
          "output_type": "execute_result",
          "data": {
            "text/plain": [
              "dtype('O')"
            ]
          },
          "metadata": {
            "tags": []
          },
          "execution_count": 53
        }
      ]
    },
    {
      "cell_type": "code",
      "metadata": {
        "id": "mh0wXaIZLQnk",
        "colab_type": "code",
        "colab": {},
        "outputId": "c1ad052b-5271-4daf-bb7b-d787250f986f"
      },
      "source": [
        "df['carb'].dtype"
      ],
      "execution_count": 0,
      "outputs": [
        {
          "output_type": "execute_result",
          "data": {
            "text/plain": [
              "dtype('int64')"
            ]
          },
          "metadata": {
            "tags": []
          },
          "execution_count": 54
        }
      ]
    },
    {
      "cell_type": "code",
      "metadata": {
        "id": "44i4qFraLQnn",
        "colab_type": "code",
        "colab": {},
        "outputId": "0ade5622-5a59-4e2a-83cc-c30bcbef0741"
      },
      "source": [
        "df['mpg'].dtype"
      ],
      "execution_count": 0,
      "outputs": [
        {
          "output_type": "execute_result",
          "data": {
            "text/plain": [
              "dtype('float64')"
            ]
          },
          "metadata": {
            "tags": []
          },
          "execution_count": 55
        }
      ]
    },
    {
      "cell_type": "code",
      "metadata": {
        "id": "IEgddcDjLQnq",
        "colab_type": "code",
        "colab": {},
        "outputId": "8ef037d5-c422-407a-9afa-39fd8997f4ef"
      },
      "source": [
        "df.head"
      ],
      "execution_count": 0,
      "outputs": [
        {
          "output_type": "execute_result",
          "data": {
            "text/plain": [
              "<bound method NDFrame.head of                   model   mpg  cyl   disp   hp  drat     wt   qsec  vs  am  \\\n",
              "0             Mazda RX4  21.0    6  160.0  110  3.90  2.620  16.46   0   1   \n",
              "1         Mazda RX4 Wag  21.0    6  160.0  110  3.90  2.875  17.02   0   1   \n",
              "2            Datsun 710  22.8    4  108.0   93  3.85  2.320  18.61   1   1   \n",
              "3        Hornet 4 Drive  21.4    6  258.0  110  3.08  3.215  19.44   1   0   \n",
              "4     Hornet Sportabout  18.7    8  360.0  175  3.15  3.440  17.02   0   0   \n",
              "5               Valiant  18.1    6  225.0  105  2.76  3.460  20.22   1   0   \n",
              "6            Duster 360  14.3    8  360.0  245  3.21  3.570  15.84   0   0   \n",
              "7             Merc 240D  24.4    4  146.7   62  3.69  3.190  20.00   1   0   \n",
              "8              Merc 230  22.8    4  140.8   95  3.92  3.150  22.90   1   0   \n",
              "9              Merc 280  19.2    6  167.6  123  3.92  3.440  18.30   1   0   \n",
              "10            Merc 280C  17.8    6  167.6  123  3.92  3.440  18.90   1   0   \n",
              "11           Merc 450SE  16.4    8  275.8  180  3.07  4.070  17.40   0   0   \n",
              "12           Merc 450SL  17.3    8  275.8  180  3.07  3.730  17.60   0   0   \n",
              "13          Merc 450SLC  15.2    8  275.8  180  3.07  3.780  18.00   0   0   \n",
              "14   Cadillac Fleetwood  10.4    8  472.0  205  2.93  5.250  17.98   0   0   \n",
              "15  Lincoln Continental  10.4    8  460.0  215  3.00  5.424  17.82   0   0   \n",
              "16    Chrysler Imperial  14.7    8  440.0  230  3.23  5.345  17.42   0   0   \n",
              "17             Fiat 128  32.4    4   78.7   66  4.08  2.200  19.47   1   1   \n",
              "18          Honda Civic  30.4    4   75.7   52  4.93  1.615  18.52   1   1   \n",
              "19       Toyota Corolla  33.9    4   71.1   65  4.22  1.835  19.90   1   1   \n",
              "20        Toyota Corona  21.5    4  120.1   97  3.70  2.465  20.01   1   0   \n",
              "21     Dodge Challenger  15.5    8  318.0  150  2.76  3.520  16.87   0   0   \n",
              "22          AMC Javelin  15.2    8  304.0  150  3.15  3.435  17.30   0   0   \n",
              "23           Camaro Z28  13.3    8  350.0  245  3.73  3.840  15.41   0   0   \n",
              "24     Pontiac Firebird  19.2    8  400.0  175  3.08  3.845  17.05   0   0   \n",
              "25            Fiat X1-9  27.3    4   79.0   66  4.08  1.935  18.90   1   1   \n",
              "26        Porsche 914-2  26.0    4  120.3   91  4.43  2.140  16.70   0   1   \n",
              "27         Lotus Europa  30.4    4   95.1  113  3.77  1.513  16.90   1   1   \n",
              "28       Ford Pantera L  15.8    8  351.0  264  4.22  3.170  14.50   0   1   \n",
              "29         Ferrari Dino  19.7    6  145.0  175  3.62  2.770  15.50   0   1   \n",
              "30        Maserati Bora  15.0    8  301.0  335  3.54  3.570  14.60   0   1   \n",
              "31           Volvo 142E  21.4    4  121.0  109  4.11  2.780  18.60   1   1   \n",
              "\n",
              "    gear  carb  \n",
              "0      4     4  \n",
              "1      4     4  \n",
              "2      4     1  \n",
              "3      3     1  \n",
              "4      3     2  \n",
              "5      3     1  \n",
              "6      3     4  \n",
              "7      4     2  \n",
              "8      4     2  \n",
              "9      4     4  \n",
              "10     4     4  \n",
              "11     3     3  \n",
              "12     3     3  \n",
              "13     3     3  \n",
              "14     3     4  \n",
              "15     3     4  \n",
              "16     3     4  \n",
              "17     4     1  \n",
              "18     4     2  \n",
              "19     4     1  \n",
              "20     3     1  \n",
              "21     3     2  \n",
              "22     3     2  \n",
              "23     3     4  \n",
              "24     3     2  \n",
              "25     4     1  \n",
              "26     5     2  \n",
              "27     5     2  \n",
              "28     5     4  \n",
              "29     5     6  \n",
              "30     5     8  \n",
              "31     4     2  >"
            ]
          },
          "metadata": {
            "tags": []
          },
          "execution_count": 56
        }
      ]
    },
    {
      "cell_type": "code",
      "metadata": {
        "id": "YOjVFTWRLQnt",
        "colab_type": "code",
        "colab": {},
        "outputId": "1db9321d-db1b-458a-8d2c-a0230041a9fd"
      },
      "source": [
        "df.head(5)"
      ],
      "execution_count": 0,
      "outputs": [
        {
          "output_type": "execute_result",
          "data": {
            "text/html": [
              "<div>\n",
              "<style scoped>\n",
              "    .dataframe tbody tr th:only-of-type {\n",
              "        vertical-align: middle;\n",
              "    }\n",
              "\n",
              "    .dataframe tbody tr th {\n",
              "        vertical-align: top;\n",
              "    }\n",
              "\n",
              "    .dataframe thead th {\n",
              "        text-align: right;\n",
              "    }\n",
              "</style>\n",
              "<table border=\"1\" class=\"dataframe\">\n",
              "  <thead>\n",
              "    <tr style=\"text-align: right;\">\n",
              "      <th></th>\n",
              "      <th>model</th>\n",
              "      <th>mpg</th>\n",
              "      <th>cyl</th>\n",
              "      <th>disp</th>\n",
              "      <th>hp</th>\n",
              "      <th>drat</th>\n",
              "      <th>wt</th>\n",
              "      <th>qsec</th>\n",
              "      <th>vs</th>\n",
              "      <th>am</th>\n",
              "      <th>gear</th>\n",
              "      <th>carb</th>\n",
              "    </tr>\n",
              "  </thead>\n",
              "  <tbody>\n",
              "    <tr>\n",
              "      <th>0</th>\n",
              "      <td>Mazda RX4</td>\n",
              "      <td>21.0</td>\n",
              "      <td>6</td>\n",
              "      <td>160.0</td>\n",
              "      <td>110</td>\n",
              "      <td>3.90</td>\n",
              "      <td>2.620</td>\n",
              "      <td>16.46</td>\n",
              "      <td>0</td>\n",
              "      <td>1</td>\n",
              "      <td>4</td>\n",
              "      <td>4</td>\n",
              "    </tr>\n",
              "    <tr>\n",
              "      <th>1</th>\n",
              "      <td>Mazda RX4 Wag</td>\n",
              "      <td>21.0</td>\n",
              "      <td>6</td>\n",
              "      <td>160.0</td>\n",
              "      <td>110</td>\n",
              "      <td>3.90</td>\n",
              "      <td>2.875</td>\n",
              "      <td>17.02</td>\n",
              "      <td>0</td>\n",
              "      <td>1</td>\n",
              "      <td>4</td>\n",
              "      <td>4</td>\n",
              "    </tr>\n",
              "    <tr>\n",
              "      <th>2</th>\n",
              "      <td>Datsun 710</td>\n",
              "      <td>22.8</td>\n",
              "      <td>4</td>\n",
              "      <td>108.0</td>\n",
              "      <td>93</td>\n",
              "      <td>3.85</td>\n",
              "      <td>2.320</td>\n",
              "      <td>18.61</td>\n",
              "      <td>1</td>\n",
              "      <td>1</td>\n",
              "      <td>4</td>\n",
              "      <td>1</td>\n",
              "    </tr>\n",
              "    <tr>\n",
              "      <th>3</th>\n",
              "      <td>Hornet 4 Drive</td>\n",
              "      <td>21.4</td>\n",
              "      <td>6</td>\n",
              "      <td>258.0</td>\n",
              "      <td>110</td>\n",
              "      <td>3.08</td>\n",
              "      <td>3.215</td>\n",
              "      <td>19.44</td>\n",
              "      <td>1</td>\n",
              "      <td>0</td>\n",
              "      <td>3</td>\n",
              "      <td>1</td>\n",
              "    </tr>\n",
              "    <tr>\n",
              "      <th>4</th>\n",
              "      <td>Hornet Sportabout</td>\n",
              "      <td>18.7</td>\n",
              "      <td>8</td>\n",
              "      <td>360.0</td>\n",
              "      <td>175</td>\n",
              "      <td>3.15</td>\n",
              "      <td>3.440</td>\n",
              "      <td>17.02</td>\n",
              "      <td>0</td>\n",
              "      <td>0</td>\n",
              "      <td>3</td>\n",
              "      <td>2</td>\n",
              "    </tr>\n",
              "  </tbody>\n",
              "</table>\n",
              "</div>"
            ],
            "text/plain": [
              "               model   mpg  cyl   disp   hp  drat     wt   qsec  vs  am  gear  \\\n",
              "0          Mazda RX4  21.0    6  160.0  110  3.90  2.620  16.46   0   1     4   \n",
              "1      Mazda RX4 Wag  21.0    6  160.0  110  3.90  2.875  17.02   0   1     4   \n",
              "2         Datsun 710  22.8    4  108.0   93  3.85  2.320  18.61   1   1     4   \n",
              "3     Hornet 4 Drive  21.4    6  258.0  110  3.08  3.215  19.44   1   0     3   \n",
              "4  Hornet Sportabout  18.7    8  360.0  175  3.15  3.440  17.02   0   0     3   \n",
              "\n",
              "   carb  \n",
              "0     4  \n",
              "1     4  \n",
              "2     1  \n",
              "3     1  \n",
              "4     2  "
            ]
          },
          "metadata": {
            "tags": []
          },
          "execution_count": 57
        }
      ]
    },
    {
      "cell_type": "code",
      "metadata": {
        "id": "d4b6ObcWLQnw",
        "colab_type": "code",
        "colab": {}
      },
      "source": [
        "a=df.iloc[1]\n",
        "b=df.loc[1]\n"
      ],
      "execution_count": 0,
      "outputs": []
    },
    {
      "cell_type": "code",
      "metadata": {
        "id": "lESmgYvXLQnz",
        "colab_type": "code",
        "colab": {},
        "outputId": "6f2a6063-4b1b-4184-cb24-5e64c1cfa84a"
      },
      "source": [
        "a"
      ],
      "execution_count": 0,
      "outputs": [
        {
          "output_type": "execute_result",
          "data": {
            "text/plain": [
              "model    Mazda RX4 Wag\n",
              "mpg                 21\n",
              "cyl                  6\n",
              "disp               160\n",
              "hp                 110\n",
              "drat               3.9\n",
              "wt               2.875\n",
              "qsec             17.02\n",
              "vs                   0\n",
              "am                   1\n",
              "gear                 4\n",
              "carb                 4\n",
              "Name: 1, dtype: object"
            ]
          },
          "metadata": {
            "tags": []
          },
          "execution_count": 59
        }
      ]
    },
    {
      "cell_type": "code",
      "metadata": {
        "id": "hjlFPwT1LQn2",
        "colab_type": "code",
        "colab": {},
        "outputId": "0c75ecb9-bed6-43df-ac6a-47555be3b10b"
      },
      "source": [
        "b"
      ],
      "execution_count": 0,
      "outputs": [
        {
          "output_type": "execute_result",
          "data": {
            "text/plain": [
              "model    Mazda RX4 Wag\n",
              "mpg                 21\n",
              "cyl                  6\n",
              "disp               160\n",
              "hp                 110\n",
              "drat               3.9\n",
              "wt               2.875\n",
              "qsec             17.02\n",
              "vs                   0\n",
              "am                   1\n",
              "gear                 4\n",
              "carb                 4\n",
              "Name: 1, dtype: object"
            ]
          },
          "metadata": {
            "tags": []
          },
          "execution_count": 60
        }
      ]
    },
    {
      "cell_type": "code",
      "metadata": {
        "id": "vkgghllNLQn5",
        "colab_type": "code",
        "colab": {},
        "outputId": "ecea0af9-6f4a-4803-b61b-29f4469dc915"
      },
      "source": [
        "a==b"
      ],
      "execution_count": 0,
      "outputs": [
        {
          "output_type": "execute_result",
          "data": {
            "text/plain": [
              "model    True\n",
              "mpg      True\n",
              "cyl      True\n",
              "disp     True\n",
              "hp       True\n",
              "drat     True\n",
              "wt       True\n",
              "qsec     True\n",
              "vs       True\n",
              "am       True\n",
              "gear     True\n",
              "carb     True\n",
              "Name: 1, dtype: bool"
            ]
          },
          "metadata": {
            "tags": []
          },
          "execution_count": 61
        }
      ]
    },
    {
      "cell_type": "code",
      "metadata": {
        "id": "MXxOqE6SLQn8",
        "colab_type": "code",
        "colab": {},
        "outputId": "8765ca4b-667b-4812-b49c-c0a565ae9fea"
      },
      "source": [
        "a=df['cyl'].unique()\n",
        "a.size"
      ],
      "execution_count": 0,
      "outputs": [
        {
          "output_type": "execute_result",
          "data": {
            "text/plain": [
              "3"
            ]
          },
          "metadata": {
            "tags": []
          },
          "execution_count": 62
        }
      ]
    },
    {
      "cell_type": "code",
      "metadata": {
        "id": "-pfUvYf9LQoA",
        "colab_type": "code",
        "colab": {},
        "outputId": "0b95d31b-3717-41a4-a9f8-97fbbcdf88f4"
      },
      "source": [
        "df['cyl'].size"
      ],
      "execution_count": 0,
      "outputs": [
        {
          "output_type": "execute_result",
          "data": {
            "text/plain": [
              "32"
            ]
          },
          "metadata": {
            "tags": []
          },
          "execution_count": 63
        }
      ]
    },
    {
      "cell_type": "code",
      "metadata": {
        "id": "n6C_7LM4LQoF",
        "colab_type": "code",
        "colab": {},
        "outputId": "4869ed3b-bc10-497c-b3b6-aa7a537cbfea"
      },
      "source": [
        "df['cyl'].values"
      ],
      "execution_count": 0,
      "outputs": [
        {
          "output_type": "execute_result",
          "data": {
            "text/plain": [
              "array([6, 6, 4, 6, 8, 6, 8, 4, 4, 6, 6, 8, 8, 8, 8, 8, 8, 4, 4, 4, 4, 8,\n",
              "       8, 8, 8, 4, 4, 4, 8, 6, 8, 4])"
            ]
          },
          "metadata": {
            "tags": []
          },
          "execution_count": 64
        }
      ]
    },
    {
      "cell_type": "code",
      "metadata": {
        "id": "rq01-8PmLQoH",
        "colab_type": "code",
        "colab": {},
        "outputId": "df1cb801-21a2-45ca-84cc-abea556d8081"
      },
      "source": [
        "df.mean()"
      ],
      "execution_count": 0,
      "outputs": [
        {
          "output_type": "execute_result",
          "data": {
            "text/plain": [
              "mpg      20.090625\n",
              "cyl       6.187500\n",
              "disp    230.721875\n",
              "hp      146.687500\n",
              "drat      3.596563\n",
              "wt        3.217250\n",
              "qsec     17.848750\n",
              "vs        0.437500\n",
              "am        0.406250\n",
              "gear      3.687500\n",
              "carb      2.812500\n",
              "dtype: float64"
            ]
          },
          "metadata": {
            "tags": []
          },
          "execution_count": 65
        }
      ]
    },
    {
      "cell_type": "code",
      "metadata": {
        "id": "eSt1eztLLQoK",
        "colab_type": "code",
        "colab": {},
        "outputId": "1bc99276-23e1-4664-efb3-ce09471c6a7a"
      },
      "source": [
        "df.median()"
      ],
      "execution_count": 0,
      "outputs": [
        {
          "output_type": "execute_result",
          "data": {
            "text/plain": [
              "mpg      19.200\n",
              "cyl       6.000\n",
              "disp    196.300\n",
              "hp      123.000\n",
              "drat      3.695\n",
              "wt        3.325\n",
              "qsec     17.710\n",
              "vs        0.000\n",
              "am        0.000\n",
              "gear      4.000\n",
              "carb      2.000\n",
              "dtype: float64"
            ]
          },
          "metadata": {
            "tags": []
          },
          "execution_count": 66
        }
      ]
    },
    {
      "cell_type": "code",
      "metadata": {
        "id": "IZoGLvZnLQoN",
        "colab_type": "code",
        "colab": {},
        "outputId": "32ea0aae-e1ea-4dd3-a9a3-230b93b7ffab"
      },
      "source": [
        "df.mode()"
      ],
      "execution_count": 0,
      "outputs": [
        {
          "output_type": "execute_result",
          "data": {
            "text/html": [
              "<div>\n",
              "<style scoped>\n",
              "    .dataframe tbody tr th:only-of-type {\n",
              "        vertical-align: middle;\n",
              "    }\n",
              "\n",
              "    .dataframe tbody tr th {\n",
              "        vertical-align: top;\n",
              "    }\n",
              "\n",
              "    .dataframe thead th {\n",
              "        text-align: right;\n",
              "    }\n",
              "</style>\n",
              "<table border=\"1\" class=\"dataframe\">\n",
              "  <thead>\n",
              "    <tr style=\"text-align: right;\">\n",
              "      <th></th>\n",
              "      <th>model</th>\n",
              "      <th>mpg</th>\n",
              "      <th>cyl</th>\n",
              "      <th>disp</th>\n",
              "      <th>hp</th>\n",
              "      <th>drat</th>\n",
              "      <th>wt</th>\n",
              "      <th>qsec</th>\n",
              "      <th>vs</th>\n",
              "      <th>am</th>\n",
              "      <th>gear</th>\n",
              "      <th>carb</th>\n",
              "    </tr>\n",
              "  </thead>\n",
              "  <tbody>\n",
              "    <tr>\n",
              "      <th>0</th>\n",
              "      <td>AMC Javelin</td>\n",
              "      <td>10.4</td>\n",
              "      <td>8.0</td>\n",
              "      <td>275.8</td>\n",
              "      <td>110.0</td>\n",
              "      <td>3.07</td>\n",
              "      <td>3.44</td>\n",
              "      <td>17.02</td>\n",
              "      <td>0.0</td>\n",
              "      <td>0.0</td>\n",
              "      <td>3.0</td>\n",
              "      <td>2.0</td>\n",
              "    </tr>\n",
              "    <tr>\n",
              "      <th>1</th>\n",
              "      <td>Cadillac Fleetwood</td>\n",
              "      <td>15.2</td>\n",
              "      <td>NaN</td>\n",
              "      <td>NaN</td>\n",
              "      <td>175.0</td>\n",
              "      <td>3.92</td>\n",
              "      <td>NaN</td>\n",
              "      <td>18.90</td>\n",
              "      <td>NaN</td>\n",
              "      <td>NaN</td>\n",
              "      <td>NaN</td>\n",
              "      <td>4.0</td>\n",
              "    </tr>\n",
              "    <tr>\n",
              "      <th>2</th>\n",
              "      <td>Camaro Z28</td>\n",
              "      <td>19.2</td>\n",
              "      <td>NaN</td>\n",
              "      <td>NaN</td>\n",
              "      <td>180.0</td>\n",
              "      <td>NaN</td>\n",
              "      <td>NaN</td>\n",
              "      <td>NaN</td>\n",
              "      <td>NaN</td>\n",
              "      <td>NaN</td>\n",
              "      <td>NaN</td>\n",
              "      <td>NaN</td>\n",
              "    </tr>\n",
              "    <tr>\n",
              "      <th>3</th>\n",
              "      <td>Chrysler Imperial</td>\n",
              "      <td>21.0</td>\n",
              "      <td>NaN</td>\n",
              "      <td>NaN</td>\n",
              "      <td>NaN</td>\n",
              "      <td>NaN</td>\n",
              "      <td>NaN</td>\n",
              "      <td>NaN</td>\n",
              "      <td>NaN</td>\n",
              "      <td>NaN</td>\n",
              "      <td>NaN</td>\n",
              "      <td>NaN</td>\n",
              "    </tr>\n",
              "    <tr>\n",
              "      <th>4</th>\n",
              "      <td>Datsun 710</td>\n",
              "      <td>21.4</td>\n",
              "      <td>NaN</td>\n",
              "      <td>NaN</td>\n",
              "      <td>NaN</td>\n",
              "      <td>NaN</td>\n",
              "      <td>NaN</td>\n",
              "      <td>NaN</td>\n",
              "      <td>NaN</td>\n",
              "      <td>NaN</td>\n",
              "      <td>NaN</td>\n",
              "      <td>NaN</td>\n",
              "    </tr>\n",
              "    <tr>\n",
              "      <th>5</th>\n",
              "      <td>Dodge Challenger</td>\n",
              "      <td>22.8</td>\n",
              "      <td>NaN</td>\n",
              "      <td>NaN</td>\n",
              "      <td>NaN</td>\n",
              "      <td>NaN</td>\n",
              "      <td>NaN</td>\n",
              "      <td>NaN</td>\n",
              "      <td>NaN</td>\n",
              "      <td>NaN</td>\n",
              "      <td>NaN</td>\n",
              "      <td>NaN</td>\n",
              "    </tr>\n",
              "    <tr>\n",
              "      <th>6</th>\n",
              "      <td>Duster 360</td>\n",
              "      <td>30.4</td>\n",
              "      <td>NaN</td>\n",
              "      <td>NaN</td>\n",
              "      <td>NaN</td>\n",
              "      <td>NaN</td>\n",
              "      <td>NaN</td>\n",
              "      <td>NaN</td>\n",
              "      <td>NaN</td>\n",
              "      <td>NaN</td>\n",
              "      <td>NaN</td>\n",
              "      <td>NaN</td>\n",
              "    </tr>\n",
              "    <tr>\n",
              "      <th>7</th>\n",
              "      <td>Ferrari Dino</td>\n",
              "      <td>NaN</td>\n",
              "      <td>NaN</td>\n",
              "      <td>NaN</td>\n",
              "      <td>NaN</td>\n",
              "      <td>NaN</td>\n",
              "      <td>NaN</td>\n",
              "      <td>NaN</td>\n",
              "      <td>NaN</td>\n",
              "      <td>NaN</td>\n",
              "      <td>NaN</td>\n",
              "      <td>NaN</td>\n",
              "    </tr>\n",
              "    <tr>\n",
              "      <th>8</th>\n",
              "      <td>Fiat 128</td>\n",
              "      <td>NaN</td>\n",
              "      <td>NaN</td>\n",
              "      <td>NaN</td>\n",
              "      <td>NaN</td>\n",
              "      <td>NaN</td>\n",
              "      <td>NaN</td>\n",
              "      <td>NaN</td>\n",
              "      <td>NaN</td>\n",
              "      <td>NaN</td>\n",
              "      <td>NaN</td>\n",
              "      <td>NaN</td>\n",
              "    </tr>\n",
              "    <tr>\n",
              "      <th>9</th>\n",
              "      <td>Fiat X1-9</td>\n",
              "      <td>NaN</td>\n",
              "      <td>NaN</td>\n",
              "      <td>NaN</td>\n",
              "      <td>NaN</td>\n",
              "      <td>NaN</td>\n",
              "      <td>NaN</td>\n",
              "      <td>NaN</td>\n",
              "      <td>NaN</td>\n",
              "      <td>NaN</td>\n",
              "      <td>NaN</td>\n",
              "      <td>NaN</td>\n",
              "    </tr>\n",
              "    <tr>\n",
              "      <th>10</th>\n",
              "      <td>Ford Pantera L</td>\n",
              "      <td>NaN</td>\n",
              "      <td>NaN</td>\n",
              "      <td>NaN</td>\n",
              "      <td>NaN</td>\n",
              "      <td>NaN</td>\n",
              "      <td>NaN</td>\n",
              "      <td>NaN</td>\n",
              "      <td>NaN</td>\n",
              "      <td>NaN</td>\n",
              "      <td>NaN</td>\n",
              "      <td>NaN</td>\n",
              "    </tr>\n",
              "    <tr>\n",
              "      <th>11</th>\n",
              "      <td>Honda Civic</td>\n",
              "      <td>NaN</td>\n",
              "      <td>NaN</td>\n",
              "      <td>NaN</td>\n",
              "      <td>NaN</td>\n",
              "      <td>NaN</td>\n",
              "      <td>NaN</td>\n",
              "      <td>NaN</td>\n",
              "      <td>NaN</td>\n",
              "      <td>NaN</td>\n",
              "      <td>NaN</td>\n",
              "      <td>NaN</td>\n",
              "    </tr>\n",
              "    <tr>\n",
              "      <th>12</th>\n",
              "      <td>Hornet 4 Drive</td>\n",
              "      <td>NaN</td>\n",
              "      <td>NaN</td>\n",
              "      <td>NaN</td>\n",
              "      <td>NaN</td>\n",
              "      <td>NaN</td>\n",
              "      <td>NaN</td>\n",
              "      <td>NaN</td>\n",
              "      <td>NaN</td>\n",
              "      <td>NaN</td>\n",
              "      <td>NaN</td>\n",
              "      <td>NaN</td>\n",
              "    </tr>\n",
              "    <tr>\n",
              "      <th>13</th>\n",
              "      <td>Hornet Sportabout</td>\n",
              "      <td>NaN</td>\n",
              "      <td>NaN</td>\n",
              "      <td>NaN</td>\n",
              "      <td>NaN</td>\n",
              "      <td>NaN</td>\n",
              "      <td>NaN</td>\n",
              "      <td>NaN</td>\n",
              "      <td>NaN</td>\n",
              "      <td>NaN</td>\n",
              "      <td>NaN</td>\n",
              "      <td>NaN</td>\n",
              "    </tr>\n",
              "    <tr>\n",
              "      <th>14</th>\n",
              "      <td>Lincoln Continental</td>\n",
              "      <td>NaN</td>\n",
              "      <td>NaN</td>\n",
              "      <td>NaN</td>\n",
              "      <td>NaN</td>\n",
              "      <td>NaN</td>\n",
              "      <td>NaN</td>\n",
              "      <td>NaN</td>\n",
              "      <td>NaN</td>\n",
              "      <td>NaN</td>\n",
              "      <td>NaN</td>\n",
              "      <td>NaN</td>\n",
              "    </tr>\n",
              "    <tr>\n",
              "      <th>15</th>\n",
              "      <td>Lotus Europa</td>\n",
              "      <td>NaN</td>\n",
              "      <td>NaN</td>\n",
              "      <td>NaN</td>\n",
              "      <td>NaN</td>\n",
              "      <td>NaN</td>\n",
              "      <td>NaN</td>\n",
              "      <td>NaN</td>\n",
              "      <td>NaN</td>\n",
              "      <td>NaN</td>\n",
              "      <td>NaN</td>\n",
              "      <td>NaN</td>\n",
              "    </tr>\n",
              "    <tr>\n",
              "      <th>16</th>\n",
              "      <td>Maserati Bora</td>\n",
              "      <td>NaN</td>\n",
              "      <td>NaN</td>\n",
              "      <td>NaN</td>\n",
              "      <td>NaN</td>\n",
              "      <td>NaN</td>\n",
              "      <td>NaN</td>\n",
              "      <td>NaN</td>\n",
              "      <td>NaN</td>\n",
              "      <td>NaN</td>\n",
              "      <td>NaN</td>\n",
              "      <td>NaN</td>\n",
              "    </tr>\n",
              "    <tr>\n",
              "      <th>17</th>\n",
              "      <td>Mazda RX4</td>\n",
              "      <td>NaN</td>\n",
              "      <td>NaN</td>\n",
              "      <td>NaN</td>\n",
              "      <td>NaN</td>\n",
              "      <td>NaN</td>\n",
              "      <td>NaN</td>\n",
              "      <td>NaN</td>\n",
              "      <td>NaN</td>\n",
              "      <td>NaN</td>\n",
              "      <td>NaN</td>\n",
              "      <td>NaN</td>\n",
              "    </tr>\n",
              "    <tr>\n",
              "      <th>18</th>\n",
              "      <td>Mazda RX4 Wag</td>\n",
              "      <td>NaN</td>\n",
              "      <td>NaN</td>\n",
              "      <td>NaN</td>\n",
              "      <td>NaN</td>\n",
              "      <td>NaN</td>\n",
              "      <td>NaN</td>\n",
              "      <td>NaN</td>\n",
              "      <td>NaN</td>\n",
              "      <td>NaN</td>\n",
              "      <td>NaN</td>\n",
              "      <td>NaN</td>\n",
              "    </tr>\n",
              "    <tr>\n",
              "      <th>19</th>\n",
              "      <td>Merc 230</td>\n",
              "      <td>NaN</td>\n",
              "      <td>NaN</td>\n",
              "      <td>NaN</td>\n",
              "      <td>NaN</td>\n",
              "      <td>NaN</td>\n",
              "      <td>NaN</td>\n",
              "      <td>NaN</td>\n",
              "      <td>NaN</td>\n",
              "      <td>NaN</td>\n",
              "      <td>NaN</td>\n",
              "      <td>NaN</td>\n",
              "    </tr>\n",
              "    <tr>\n",
              "      <th>20</th>\n",
              "      <td>Merc 240D</td>\n",
              "      <td>NaN</td>\n",
              "      <td>NaN</td>\n",
              "      <td>NaN</td>\n",
              "      <td>NaN</td>\n",
              "      <td>NaN</td>\n",
              "      <td>NaN</td>\n",
              "      <td>NaN</td>\n",
              "      <td>NaN</td>\n",
              "      <td>NaN</td>\n",
              "      <td>NaN</td>\n",
              "      <td>NaN</td>\n",
              "    </tr>\n",
              "    <tr>\n",
              "      <th>21</th>\n",
              "      <td>Merc 280</td>\n",
              "      <td>NaN</td>\n",
              "      <td>NaN</td>\n",
              "      <td>NaN</td>\n",
              "      <td>NaN</td>\n",
              "      <td>NaN</td>\n",
              "      <td>NaN</td>\n",
              "      <td>NaN</td>\n",
              "      <td>NaN</td>\n",
              "      <td>NaN</td>\n",
              "      <td>NaN</td>\n",
              "      <td>NaN</td>\n",
              "    </tr>\n",
              "    <tr>\n",
              "      <th>22</th>\n",
              "      <td>Merc 280C</td>\n",
              "      <td>NaN</td>\n",
              "      <td>NaN</td>\n",
              "      <td>NaN</td>\n",
              "      <td>NaN</td>\n",
              "      <td>NaN</td>\n",
              "      <td>NaN</td>\n",
              "      <td>NaN</td>\n",
              "      <td>NaN</td>\n",
              "      <td>NaN</td>\n",
              "      <td>NaN</td>\n",
              "      <td>NaN</td>\n",
              "    </tr>\n",
              "    <tr>\n",
              "      <th>23</th>\n",
              "      <td>Merc 450SE</td>\n",
              "      <td>NaN</td>\n",
              "      <td>NaN</td>\n",
              "      <td>NaN</td>\n",
              "      <td>NaN</td>\n",
              "      <td>NaN</td>\n",
              "      <td>NaN</td>\n",
              "      <td>NaN</td>\n",
              "      <td>NaN</td>\n",
              "      <td>NaN</td>\n",
              "      <td>NaN</td>\n",
              "      <td>NaN</td>\n",
              "    </tr>\n",
              "    <tr>\n",
              "      <th>24</th>\n",
              "      <td>Merc 450SL</td>\n",
              "      <td>NaN</td>\n",
              "      <td>NaN</td>\n",
              "      <td>NaN</td>\n",
              "      <td>NaN</td>\n",
              "      <td>NaN</td>\n",
              "      <td>NaN</td>\n",
              "      <td>NaN</td>\n",
              "      <td>NaN</td>\n",
              "      <td>NaN</td>\n",
              "      <td>NaN</td>\n",
              "      <td>NaN</td>\n",
              "    </tr>\n",
              "    <tr>\n",
              "      <th>25</th>\n",
              "      <td>Merc 450SLC</td>\n",
              "      <td>NaN</td>\n",
              "      <td>NaN</td>\n",
              "      <td>NaN</td>\n",
              "      <td>NaN</td>\n",
              "      <td>NaN</td>\n",
              "      <td>NaN</td>\n",
              "      <td>NaN</td>\n",
              "      <td>NaN</td>\n",
              "      <td>NaN</td>\n",
              "      <td>NaN</td>\n",
              "      <td>NaN</td>\n",
              "    </tr>\n",
              "    <tr>\n",
              "      <th>26</th>\n",
              "      <td>Pontiac Firebird</td>\n",
              "      <td>NaN</td>\n",
              "      <td>NaN</td>\n",
              "      <td>NaN</td>\n",
              "      <td>NaN</td>\n",
              "      <td>NaN</td>\n",
              "      <td>NaN</td>\n",
              "      <td>NaN</td>\n",
              "      <td>NaN</td>\n",
              "      <td>NaN</td>\n",
              "      <td>NaN</td>\n",
              "      <td>NaN</td>\n",
              "    </tr>\n",
              "    <tr>\n",
              "      <th>27</th>\n",
              "      <td>Porsche 914-2</td>\n",
              "      <td>NaN</td>\n",
              "      <td>NaN</td>\n",
              "      <td>NaN</td>\n",
              "      <td>NaN</td>\n",
              "      <td>NaN</td>\n",
              "      <td>NaN</td>\n",
              "      <td>NaN</td>\n",
              "      <td>NaN</td>\n",
              "      <td>NaN</td>\n",
              "      <td>NaN</td>\n",
              "      <td>NaN</td>\n",
              "    </tr>\n",
              "    <tr>\n",
              "      <th>28</th>\n",
              "      <td>Toyota Corolla</td>\n",
              "      <td>NaN</td>\n",
              "      <td>NaN</td>\n",
              "      <td>NaN</td>\n",
              "      <td>NaN</td>\n",
              "      <td>NaN</td>\n",
              "      <td>NaN</td>\n",
              "      <td>NaN</td>\n",
              "      <td>NaN</td>\n",
              "      <td>NaN</td>\n",
              "      <td>NaN</td>\n",
              "      <td>NaN</td>\n",
              "    </tr>\n",
              "    <tr>\n",
              "      <th>29</th>\n",
              "      <td>Toyota Corona</td>\n",
              "      <td>NaN</td>\n",
              "      <td>NaN</td>\n",
              "      <td>NaN</td>\n",
              "      <td>NaN</td>\n",
              "      <td>NaN</td>\n",
              "      <td>NaN</td>\n",
              "      <td>NaN</td>\n",
              "      <td>NaN</td>\n",
              "      <td>NaN</td>\n",
              "      <td>NaN</td>\n",
              "      <td>NaN</td>\n",
              "    </tr>\n",
              "    <tr>\n",
              "      <th>30</th>\n",
              "      <td>Valiant</td>\n",
              "      <td>NaN</td>\n",
              "      <td>NaN</td>\n",
              "      <td>NaN</td>\n",
              "      <td>NaN</td>\n",
              "      <td>NaN</td>\n",
              "      <td>NaN</td>\n",
              "      <td>NaN</td>\n",
              "      <td>NaN</td>\n",
              "      <td>NaN</td>\n",
              "      <td>NaN</td>\n",
              "      <td>NaN</td>\n",
              "    </tr>\n",
              "    <tr>\n",
              "      <th>31</th>\n",
              "      <td>Volvo 142E</td>\n",
              "      <td>NaN</td>\n",
              "      <td>NaN</td>\n",
              "      <td>NaN</td>\n",
              "      <td>NaN</td>\n",
              "      <td>NaN</td>\n",
              "      <td>NaN</td>\n",
              "      <td>NaN</td>\n",
              "      <td>NaN</td>\n",
              "      <td>NaN</td>\n",
              "      <td>NaN</td>\n",
              "      <td>NaN</td>\n",
              "    </tr>\n",
              "  </tbody>\n",
              "</table>\n",
              "</div>"
            ],
            "text/plain": [
              "                  model   mpg  cyl   disp     hp  drat    wt   qsec   vs   am  \\\n",
              "0           AMC Javelin  10.4  8.0  275.8  110.0  3.07  3.44  17.02  0.0  0.0   \n",
              "1    Cadillac Fleetwood  15.2  NaN    NaN  175.0  3.92   NaN  18.90  NaN  NaN   \n",
              "2            Camaro Z28  19.2  NaN    NaN  180.0   NaN   NaN    NaN  NaN  NaN   \n",
              "3     Chrysler Imperial  21.0  NaN    NaN    NaN   NaN   NaN    NaN  NaN  NaN   \n",
              "4            Datsun 710  21.4  NaN    NaN    NaN   NaN   NaN    NaN  NaN  NaN   \n",
              "5      Dodge Challenger  22.8  NaN    NaN    NaN   NaN   NaN    NaN  NaN  NaN   \n",
              "6            Duster 360  30.4  NaN    NaN    NaN   NaN   NaN    NaN  NaN  NaN   \n",
              "7          Ferrari Dino   NaN  NaN    NaN    NaN   NaN   NaN    NaN  NaN  NaN   \n",
              "8              Fiat 128   NaN  NaN    NaN    NaN   NaN   NaN    NaN  NaN  NaN   \n",
              "9             Fiat X1-9   NaN  NaN    NaN    NaN   NaN   NaN    NaN  NaN  NaN   \n",
              "10       Ford Pantera L   NaN  NaN    NaN    NaN   NaN   NaN    NaN  NaN  NaN   \n",
              "11          Honda Civic   NaN  NaN    NaN    NaN   NaN   NaN    NaN  NaN  NaN   \n",
              "12       Hornet 4 Drive   NaN  NaN    NaN    NaN   NaN   NaN    NaN  NaN  NaN   \n",
              "13    Hornet Sportabout   NaN  NaN    NaN    NaN   NaN   NaN    NaN  NaN  NaN   \n",
              "14  Lincoln Continental   NaN  NaN    NaN    NaN   NaN   NaN    NaN  NaN  NaN   \n",
              "15         Lotus Europa   NaN  NaN    NaN    NaN   NaN   NaN    NaN  NaN  NaN   \n",
              "16        Maserati Bora   NaN  NaN    NaN    NaN   NaN   NaN    NaN  NaN  NaN   \n",
              "17            Mazda RX4   NaN  NaN    NaN    NaN   NaN   NaN    NaN  NaN  NaN   \n",
              "18        Mazda RX4 Wag   NaN  NaN    NaN    NaN   NaN   NaN    NaN  NaN  NaN   \n",
              "19             Merc 230   NaN  NaN    NaN    NaN   NaN   NaN    NaN  NaN  NaN   \n",
              "20            Merc 240D   NaN  NaN    NaN    NaN   NaN   NaN    NaN  NaN  NaN   \n",
              "21             Merc 280   NaN  NaN    NaN    NaN   NaN   NaN    NaN  NaN  NaN   \n",
              "22            Merc 280C   NaN  NaN    NaN    NaN   NaN   NaN    NaN  NaN  NaN   \n",
              "23           Merc 450SE   NaN  NaN    NaN    NaN   NaN   NaN    NaN  NaN  NaN   \n",
              "24           Merc 450SL   NaN  NaN    NaN    NaN   NaN   NaN    NaN  NaN  NaN   \n",
              "25          Merc 450SLC   NaN  NaN    NaN    NaN   NaN   NaN    NaN  NaN  NaN   \n",
              "26     Pontiac Firebird   NaN  NaN    NaN    NaN   NaN   NaN    NaN  NaN  NaN   \n",
              "27        Porsche 914-2   NaN  NaN    NaN    NaN   NaN   NaN    NaN  NaN  NaN   \n",
              "28       Toyota Corolla   NaN  NaN    NaN    NaN   NaN   NaN    NaN  NaN  NaN   \n",
              "29        Toyota Corona   NaN  NaN    NaN    NaN   NaN   NaN    NaN  NaN  NaN   \n",
              "30              Valiant   NaN  NaN    NaN    NaN   NaN   NaN    NaN  NaN  NaN   \n",
              "31           Volvo 142E   NaN  NaN    NaN    NaN   NaN   NaN    NaN  NaN  NaN   \n",
              "\n",
              "    gear  carb  \n",
              "0    3.0   2.0  \n",
              "1    NaN   4.0  \n",
              "2    NaN   NaN  \n",
              "3    NaN   NaN  \n",
              "4    NaN   NaN  \n",
              "5    NaN   NaN  \n",
              "6    NaN   NaN  \n",
              "7    NaN   NaN  \n",
              "8    NaN   NaN  \n",
              "9    NaN   NaN  \n",
              "10   NaN   NaN  \n",
              "11   NaN   NaN  \n",
              "12   NaN   NaN  \n",
              "13   NaN   NaN  \n",
              "14   NaN   NaN  \n",
              "15   NaN   NaN  \n",
              "16   NaN   NaN  \n",
              "17   NaN   NaN  \n",
              "18   NaN   NaN  \n",
              "19   NaN   NaN  \n",
              "20   NaN   NaN  \n",
              "21   NaN   NaN  \n",
              "22   NaN   NaN  \n",
              "23   NaN   NaN  \n",
              "24   NaN   NaN  \n",
              "25   NaN   NaN  \n",
              "26   NaN   NaN  \n",
              "27   NaN   NaN  \n",
              "28   NaN   NaN  \n",
              "29   NaN   NaN  \n",
              "30   NaN   NaN  \n",
              "31   NaN   NaN  "
            ]
          },
          "metadata": {
            "tags": []
          },
          "execution_count": 67
        }
      ]
    },
    {
      "cell_type": "code",
      "metadata": {
        "id": "zUVyUjffLQoP",
        "colab_type": "code",
        "colab": {}
      },
      "source": [
        "import matplotlib.pyplot as plt\n",
        "import seaborn as sns"
      ],
      "execution_count": 0,
      "outputs": []
    },
    {
      "cell_type": "code",
      "metadata": {
        "id": "RS68zpYELQoT",
        "colab_type": "code",
        "colab": {},
        "outputId": "27d82fa6-6cd4-4e4f-8712-166c33bb1d66"
      },
      "source": [
        "correlations=df.corr()\n",
        "sns.heatmap(data=correlations, square=True,cmap=\"bwr\" )"
      ],
      "execution_count": 0,
      "outputs": [
        {
          "output_type": "execute_result",
          "data": {
            "text/plain": [
              "<matplotlib.axes._subplots.AxesSubplot at 0x7f8fbe8aa9e8>"
            ]
          },
          "metadata": {
            "tags": []
          },
          "execution_count": 70
        },
        {
          "output_type": "display_data",
          "data": {
            "image/png": "[encoded data removed]",
            "text/plain": [
              "<Figure size 432x288 with 2 Axes>"
            ]
          },
          "metadata": {
            "tags": [],
            "needs_background": "light"
          }
        }
      ]
    },
    {
      "cell_type": "code",
      "metadata": {
        "id": "NVwEbBoELQoV",
        "colab_type": "code",
        "colab": {},
        "outputId": "385af627-5a48-4322-9f8f-5113720b6487"
      },
      "source": [
        "plt.yticks(rotation=0)"
      ],
      "execution_count": 0,
      "outputs": [
        {
          "output_type": "execute_result",
          "data": {
            "text/plain": [
              "(array([0. , 0.2, 0.4, 0.6, 0.8, 1. ]), <a list of 6 Text yticklabel objects>)"
            ]
          },
          "metadata": {
            "tags": []
          },
          "execution_count": 74
        },
        {
          "output_type": "display_data",
          "data": {
            "image/png": "[encoded data removed]",
            "text/plain": [
              "<Figure size 432x288 with 1 Axes>"
            ]
          },
          "metadata": {
            "tags": [],
            "needs_background": "light"
          }
        }
      ]
    },
    {
      "cell_type": "code",
      "metadata": {
        "id": "aIY82-kCLQoY",
        "colab_type": "code",
        "colab": {},
        "outputId": "f79afe9e-5be5-4c0a-c80b-8749a8c1ff19"
      },
      "source": [
        "plt.xticks(rotation=90)"
      ],
      "execution_count": 0,
      "outputs": [
        {
          "output_type": "execute_result",
          "data": {
            "text/plain": [
              "(array([0. , 0.2, 0.4, 0.6, 0.8, 1. ]), <a list of 6 Text xticklabel objects>)"
            ]
          },
          "metadata": {
            "tags": []
          },
          "execution_count": 75
        },
        {
          "output_type": "display_data",
          "data": {
            "image/png": "[encoded data removed]",
            "text/plain": [
              "<Figure size 432x288 with 1 Axes>"
            ]
          },
          "metadata": {
            "tags": [],
            "needs_background": "light"
          }
        }
      ]
    },
    {
      "cell_type": "code",
      "metadata": {
        "id": "vGIjFAANLQob",
        "colab_type": "code",
        "colab": {}
      },
      "source": [
        ""
      ],
      "execution_count": 0,
      "outputs": []
    }
  ]
}